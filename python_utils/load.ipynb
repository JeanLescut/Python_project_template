{
 "cells": [
  {
   "cell_type": "code",
   "execution_count": null,
   "metadata": {},
   "outputs": [],
   "source": [
    "import os\n",
    "import json\n",
    "import logging\n",
    "log = logging.getLogger(__name__)\n",
    "log.debug('Module loaded')"
   ]
  },
  {
   "cell_type": "code",
   "execution_count": null,
   "metadata": {},
   "outputs": [],
   "source": [
    "def load_conf_file(path_conf) :\n",
    "    log.debug(f'Trying to load conf file {path_conf} ...')\n",
    "    try :\n",
    "        with open(path_conf, 'r') as file :\n",
    "            return json.load(file)\n",
    "    except FileNotFoundError as e :\n",
    "        log.warning(f'The path {path_conf} does not correspond to any file !')\n",
    "    except json.JSONDecodeError as e:\n",
    "        log.error(f'The json is not valid ! Error was :')\n",
    "        print(e)\n",
    "    return dict()\n",
    "\n",
    "def fallback(d1, d2) :\n",
    "    if type(d1) is not dict or type(d2) is not dict :\n",
    "        return d1\n",
    "    d = {}\n",
    "    for k in set(d1.keys()).union(set(d2.keys())) :\n",
    "        if (k in d1.keys()) and (k not in d2.keys()) :\n",
    "            d[k] = d1[k]\n",
    "        elif (k not in d1.keys()) and (k in d2.keys()) :\n",
    "            d[k] = d2[k]\n",
    "        else :\n",
    "            d[k] = fallback(d1[k], d2[k])\n",
    "    return d\n",
    "\n",
    "def conf(argv, jupyter_ROOT=None, script_ROOT=None) :\n",
    "    log.info('Loading configuration files...')\n",
    "    \n",
    "    log.debug('1. Arguments hard-coded in the script :')\n",
    "    # If ROOT has been overriden in the script, then use that :\n",
    "    if 'ipykernel_launcher.py' == argv[0].split('/')[-1]:\n",
    "        if type(jupyter_ROOT) is str :\n",
    "            conf = {'ROOT': jupyter_ROOT}\n",
    "        else :\n",
    "            conf = {'ROOT': '.'}\n",
    "    else : \n",
    "        if type(script_ROOT) is str :\n",
    "            conf = {'ROOT': script_ROOT}\n",
    "        else :\n",
    "            conf = {} # ROOT should be defined by the shell arguments of .py script...\n",
    "            \n",
    "    log.debug('2. (non-Jupyter) Arguments passed (by main.sh, or manually from bash) to the .py :')\n",
    "    if 'ipykernel_launcher.py' != argv[0].split('/')[-1]: # If NOT run in Jupyter :\n",
    "        for arg in argv[1:] : # For every argument (conf_json_path)\n",
    "            if len(arg) > 0 : # skip useless empty argument ('')\n",
    "                conf = fallback(conf, load_conf_file(arg))     \n",
    "    if 'ROOT' not in conf.keys() :\n",
    "        log.error('Something is weird, ROOT has not been passed by main.sh...')\n",
    "        conf = fallback(conf, {'ROOT': os.path.dirname(argv[0])})\n",
    "        \n",
    "    ##### AT THAT POINT, we are sure that ROOT is in the conf !\n",
    "                \n",
    "    log.debug('3. Local configuration file :')\n",
    "    conf = fallback(conf, load_conf_file(f'{conf[\"ROOT\"]}/etc/local.json'))\n",
    "    \n",
    "    log.debug('3. Default configuration file :')\n",
    "    conf = fallback(conf, load_conf_file(f'{conf[\"ROOT\"]}/etc/default.json'))\n",
    "    \n",
    "    log.info('Loading configuration files... Done !')\n",
    "    log.debug(f'conf = {conf}')\n",
    "    return conf"
   ]
  },
  {
   "cell_type": "code",
   "execution_count": null,
   "metadata": {},
   "outputs": [],
   "source": [
    "def creds() :\n",
    "    log.info('Loading credentials...')\n",
    "    with open('/usr/local/share/credentials.json','r') as creds_file:\n",
    "        creds = json.load(creds_file)\n",
    "    log.info('Loading credentials... Done !')\n",
    "    log.warn('PLEASE NEVER PRINT CREDENTIALS IN THE LOG, OR IN A JUPYTER CELL OUTPUT')\n",
    "    return creds"
   ]
  }
 ],
 "metadata": {
  "kernelspec": {
   "display_name": "Python 3.6.2",
   "language": "python",
   "name": "python_3.6.2"
  },
  "language_info": {
   "codemirror_mode": {
    "name": "ipython",
    "version": 3
   },
   "file_extension": ".py",
   "mimetype": "text/x-python",
   "name": "python",
   "nbconvert_exporter": "python",
   "pygments_lexer": "ipython3"
  }
 },
 "nbformat": 4,
 "nbformat_minor": 2
}
