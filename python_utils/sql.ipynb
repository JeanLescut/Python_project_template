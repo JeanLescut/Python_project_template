{
 "cells": [
  {
   "cell_type": "code",
   "execution_count": null,
   "metadata": {},
   "outputs": [],
   "source": [
    "import logging\n",
    "import pymssql, pandas\n",
    "import sys\n",
    "log = logging.getLogger(__name__)\n",
    "log.debug('Module loaded')"
   ]
  },
  {
   "cell_type": "markdown",
   "metadata": {},
   "source": [
    "### query()\n",
    "\n",
    "Example :\n",
    "```\n",
    "server = 'CHCXSQLARMDM008'\n",
    "db = 'Pricing'\n",
    "query = 'SELECT 1'\n",
    "sql.query(server, db, query, creds)\n",
    "```"
   ]
  },
  {
   "cell_type": "code",
   "execution_count": null,
   "metadata": {},
   "outputs": [],
   "source": [
    "def query(server, db, query, creds):\n",
    "    log.debug(f'About to launch query {query}')\n",
    "    \n",
    "    connection = pymssql.connect(server, \n",
    "                                 creds['domain']+'\\\\'+creds['user'], \n",
    "                                 creds['pass'], \n",
    "                                 db, \n",
    "                                 autocommit=True)\n",
    "    \n",
    "    log.debug('Connected to SQL. Executing query... (please wait)')\n",
    "    data = pandas.read_sql(query, connection)\n",
    "    connection.commit()\n",
    "    connection.close()\n",
    "    \n",
    "    log.debug(f'Done ! (and connection closed)')\n",
    "    return data"
   ]
  }
 ],
 "metadata": {
  "kernelspec": {
   "display_name": "Python 3.6.2",
   "language": "python",
   "name": "python_3.6.2"
  },
  "language_info": {
   "codemirror_mode": {
    "name": "ipython",
    "version": 3
   },
   "file_extension": ".py",
   "mimetype": "text/x-python",
   "name": "python",
   "nbconvert_exporter": "python",
   "pygments_lexer": "ipython3"
  }
 },
 "nbformat": 4,
 "nbformat_minor": 2
}
