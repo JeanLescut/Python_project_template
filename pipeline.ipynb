{
 "cells": [
  {
   "cell_type": "code",
   "execution_count": null,
   "metadata": {},
   "outputs": [],
   "source": [
    "# First thing in the script : import all libraries at once :\n",
    "import paramiko\n",
    "import re\n",
    "import pymssql\n",
    "import logging\n",
    "import sys"
   ]
  },
  {
   "cell_type": "code",
   "execution_count": null,
   "metadata": {},
   "outputs": [],
   "source": [
    "logging.basicConfig(stream=sys.stdout,\n",
    "                        format='[%(asctime)s] [%(filename)s] [%(levelname)s] %(message)s',\n",
    "                        level=logging.DEBUG)\n",
    "logging.info('Logging ready, Start of the script !')"
   ]
  },
  {
   "cell_type": "code",
   "execution_count": null,
   "metadata": {},
   "outputs": [],
   "source": [
    "def load_bash_conf_file(path_conf) :\n",
    "    def match(line) :\n",
    "        m = re.match(\"^ *([a-zA-z0-9_]+)='(.*?)'\", line) # Single quoted text\n",
    "        if m is not None : return m.groups()\n",
    "        m = re.match('^ *([a-zA-z0-9_]+)=\"(.*?)\"', line) # Double quoted text\n",
    "        if m is not None : return m.groups()\n",
    "        m = re.match(\"^ *([a-zA-z0-9_]+)=([0-9]+)\", line) # Int variable\n",
    "        if m is not None : return (m.groups()[0], int(m.groups()[1]))\n",
    "        m = re.match(\"^ *([a-zA-z0-9_]+)=([^ ]+)\", line) # Bad practice : unquoted strings\n",
    "        if m is not None : return m.groups()\n",
    "        return None\n",
    "    try :\n",
    "        with open(path_conf,'r') as conf_file:\n",
    "            return dict([ r for r in [match(line) for line in conf_file.read().split(\"\\n\")] if r is not None])\n",
    "    except FileNotFoundError :\n",
    "        logging.warning(f'The path {path_conf}) does not correspond to any file !')\n",
    "        return dict()"
   ]
  },
  {
   "cell_type": "code",
   "execution_count": null,
   "metadata": {},
   "outputs": [],
   "source": [
    "logging.info('###########################################')\n",
    "logging.info('Loading default configuration ...')\n",
    "conf = load_bash_conf_file('./etc/default.sh')\n",
    "logging.info('Try to load local configuration ...')\n",
    "conf.update(load_bash_conf_file('./etc/local.sh'))\n",
    "logging.info('Try to load configuration passed in parameters...')\n",
    "try : \n",
    "    conf.update(load_bash_conf_file(sys.argv[1])) # Note : while running the notebook, the '-f' is passed. It is not a concern.\n",
    "except IndexError :\n",
    "    logging.warning('No argument seem to be passed to this script !')\n",
    "logging.info(f'conf = {conf}')"
   ]
  },
  {
   "cell_type": "code",
   "execution_count": null,
   "metadata": {},
   "outputs": [],
   "source": [
    "logging.info('###########################################')\n",
    "logging.info('Loading credentials stored locally...')\n",
    "# Connecting using AD (Active Directory) credentials stored in the local server :\n",
    "creds = load_bash_conf_file('/usr/local/share/credentials/AD')\n",
    "# Note : Never print the credentials in the log !"
   ]
  },
  {
   "cell_type": "code",
   "execution_count": null,
   "metadata": {},
   "outputs": [],
   "source": [
    "logging.info('###########################################')\n",
    "logging.info('Example of SSH connection :')\n",
    "logging.debug('Creating SSH client...')\n",
    "ssh = paramiko.SSHClient()\n",
    "ssh.set_missing_host_key_policy(paramiko.AutoAddPolicy())\n",
    "ssh.connect(hostname = 'chsxedwhdc001', \n",
    "            username = creds['user'],\n",
    "            password = creds['pass'])\n",
    "\n",
    "logging.debug('using SSH connection to retrieve data...')\n",
    "_, stdout, _ = ssh.exec_command('whoami')\n",
    "result = stdout.readline().strip()\n",
    "logging.info(f'I am {result} !')"
   ]
  },
  {
   "cell_type": "code",
   "execution_count": null,
   "metadata": {},
   "outputs": [],
   "source": [
    "logging.info('###########################################')\n",
    "logging.info('Example of SQL connection :')\n",
    "connection = pymssql.connect(server = 'CHCXSQLARMDM008', \n",
    "                             user = creds['domain'] + '\\\\' + creds['user'], \n",
    "                             password = creds['pass'], \n",
    "                             database = 'Pricing',\n",
    "                             autocommit=True)\n",
    "cursor = connection.cursor()\n",
    "\n",
    "logging.debug('Executing a statement...')\n",
    "query=f'SELECT 1'\n",
    "logging.debug(query)\n",
    "cursor.execute(query)\n",
    "cursor.fetchall()"
   ]
  },
  {
   "cell_type": "code",
   "execution_count": null,
   "metadata": {},
   "outputs": [],
   "source": [
    "logging.info('End of the script (success)') # Always finish by that to confirm a precocious exit did not happen"
   ]
  }
 ],
 "metadata": {
  "kernelspec": {
   "display_name": "Python 3.6.2 ControlTower",
   "language": "python",
   "name": "python_3.6.2_controltower"
  },
  "language_info": {
   "codemirror_mode": {
    "name": "ipython",
    "version": 3
   },
   "file_extension": ".py",
   "mimetype": "text/x-python",
   "name": "python",
   "nbconvert_exporter": "python",
   "pygments_lexer": "ipython3"
  }
 },
 "nbformat": 4,
 "nbformat_minor": 2
}
