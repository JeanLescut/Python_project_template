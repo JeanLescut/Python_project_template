{
 "cells": [
  {
   "cell_type": "code",
   "execution_count": null,
   "metadata": {},
   "outputs": [],
   "source": [
    "import socket\n",
    "import sys\n",
    "import smtplib\n",
    "from email.mime.multipart import MIMEMultipart\n",
    "from email.mime.text import MIMEText\n",
    "from email.mime.image import MIMEImage\n",
    "import logging\n",
    "log = logging.getLogger(__name__)\n",
    "log.debug('Module loaded')"
   ]
  },
  {
   "cell_type": "markdown",
   "metadata": {},
   "source": [
    "### Send simple email :\n",
    "Example : \n",
    "```\n",
    "email.send_simple(to_email_list=['jlescutmuller@expedia.com'],\n",
    "                  subject='test',\n",
    "                  content='test', \n",
    "                  from_email='jlescutmuller@expedia.com')\n",
    "```"
   ]
  },
  {
   "cell_type": "code",
   "execution_count": null,
   "metadata": {},
   "outputs": [],
   "source": [
    "def send_simple(from_email, to_email_list, subject, content):\n",
    "    # If no sender is specified, please use server name (to know at least if its dev, int or prod..)\n",
    "    if from_email is None or len(from_email)==0 : from_email = socket.gethostname().split('.')[0]+'@expedia.com'\n",
    "    \n",
    "    # Prepare actual message\n",
    "    message = f\"\"\"\\\n",
    "    From: {from_email}\n",
    "    To: {\", \".join(to_email_list)}\n",
    "    Subject: {subject}\n",
    "\n",
    "    {content.encode('utf-8')}\n",
    "    \"\"\"\n",
    "\n",
    "    # Send the mail\n",
    "    server = smtplib.SMTP(\"exp-shost-01\")\n",
    "    try:\n",
    "        server.sendmail(FROM, TO, message)\n",
    "        server.quit()\n",
    "        log.debug('Email Sent')\n",
    "    except TypeError:\n",
    "        log.debug('Error Sending Email')\n"
   ]
  },
  {
   "cell_type": "markdown",
   "metadata": {},
   "source": [
    "# Example\n",
    "to_email_list = [\"fhatt@expedia.com\"]\n",
    "from_email = 'fhatt@expedia.com'\n",
    "subject = 'test'\n",
    "content='hello world'\n",
    "send_email(from_email, to_email_list, subject, content)"
   ]
  },
  {
   "cell_type": "code",
   "execution_count": null,
   "metadata": {},
   "outputs": [],
   "source": [
    "def send_html(from_email, to_emails, subject, content, image_attachments = {}):\n",
    "    # If no sender is specified, please use server name (to know at least if its dev, int or prod..)\n",
    "    if from_email is None or len(from_email)==0 : from_email = socket.gethostname().split('.')[0]+'@expedia.com'\n",
    "    if type(to_emails) is str : to_emails = [to_emails] # If only 1 recipient, put it in a list anyway...\n",
    "    \n",
    "    # Create message container - the correct MIME type is multipart/alternative.\n",
    "    msgRoot = MIMEMultipart('related')\n",
    "    msgRoot['Subject'] = subject\n",
    "    msgRoot['From'] = from_email\n",
    "    msgRoot['To'] = \", \".join(to_emails) \n",
    "    msgRoot.preamble = 'This is a multi-part message in MIME format.'\n",
    "    \n",
    "    # Encapsulate the plain and HTML versions of the message body in an\n",
    "    # 'alternative' part, so message agents can decide which they want to display.\n",
    "    msgAlternative = MIMEMultipart('alternative')\n",
    "    msgRoot.attach(msgAlternative)\n",
    "\n",
    "    msgAlternative.attach(MIMEText(content))\n",
    "    msgAlternative.attach(MIMEText(content, 'html'))\n",
    "\n",
    "    # Adding images :\n",
    "    for image_name, image_path in image_attachments.items():\n",
    "        fp = open(image_path, 'rb')\n",
    "        msgImage = MIMEImage(fp.read())\n",
    "        fp.close()\n",
    "        msgImage.add_header('Content-ID', f'<{image_name}>')\n",
    "        msgRoot.attach(msgImage)\n",
    "\n",
    "    # Send the message via local SMTP server.\n",
    "    s = smtplib.SMTP(\"exp-shost-01\")\n",
    "    s.sendmail(from_email, to_emails, msgRoot.as_string())\n",
    "    s.quit()\n",
    "    \n",
    "    log.debug('Email Sent')"
   ]
  }
 ],
 "metadata": {
  "kernelspec": {
   "display_name": "Python 3.6.2",
   "language": "python",
   "name": "python_3.6.2"
  },
  "language_info": {
   "codemirror_mode": {
    "name": "ipython",
    "version": 3
   },
   "file_extension": ".py",
   "mimetype": "text/x-python",
   "name": "python",
   "nbconvert_exporter": "python",
   "pygments_lexer": "ipython3"
  }
 },
 "nbformat": 4,
 "nbformat_minor": 2
}
