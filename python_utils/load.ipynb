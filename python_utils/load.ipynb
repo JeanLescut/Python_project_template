{
 "cells": [
  {
   "cell_type": "code",
   "execution_count": null,
   "metadata": {},
   "outputs": [],
   "source": [
    "import json\n",
    "import logging\n",
    "log = logging.getLogger(__name__)\n",
    "log.debug('Module loaded')"
   ]
  },
  {
   "cell_type": "code",
   "execution_count": null,
   "metadata": {},
   "outputs": [],
   "source": [
    "def load_conf_file(path_conf) :\n",
    "    log.debug(f'Loading conf file {path_conf} ...')\n",
    "    try :\n",
    "        with open(path_conf, 'r') as file :\n",
    "            return json.load(file)\n",
    "    except FileNotFoundError as e :\n",
    "        log.error(f'The path {path_conf} does not correspond to any file !')\n",
    "        print(e)\n",
    "    except JSONDecodeError as e:\n",
    "        log.error(f'The json is not valid ! Error was :')\n",
    "        print(e)\n",
    "    return dict()\n",
    "        \n",
    "def get_ROOT(argv, jupyter_ROOT, script_ROOT) :\n",
    "    # If run in Jupyter :\n",
    "    if 'ipykernel_launcher.py' == argv[0].split('/')[-1] : \n",
    "        if jupyter_ROOT is not None :\n",
    "            return jupyter_ROOT\n",
    "        else :\n",
    "            return '.'\n",
    "    else :\n",
    "        if script_ROOT is not None :\n",
    "            return script_ROOT\n",
    "        for conf_path in argv[1:] :\n",
    "            d = load_conf_file(conf_path)\n",
    "            if 'ROOT' in d.keys() :\n",
    "                return d['ROOT']\n",
    "        return os.path.dirname(argv[0]) # This shouldn't happen,as ROOT is always defined in main.sh\n",
    "\n",
    "def conf(argv, jupyter_ROOT=None, script_ROOT=None) :\n",
    "    log.info('Loading configuration files...')\n",
    "    conf = {}\n",
    "    \n",
    "    ROOT = get_ROOT(argv, jupyter_ROOT, script_ROOT)\n",
    "    if 'ipykernel_launcher.py' != argv[0].split('/')[-1] : # If run in Jupyter :\n",
    "        for arg in argv[1:] : # For every argument (conf_json, param_json, etc...)\n",
    "            conf.update(load_conf_file(arg))\n",
    "\n",
    "    conf = load_conf_file(f'{ROOT}/etc/default.json')\n",
    "    conf.update(load_conf_file(f'{ROOT}/etc/local.json'))\n",
    "    conf['ROOT'] = ROOT\n",
    "          \n",
    "    log.info('Loading configuration files... Done !')\n",
    "    log.debug(f'conf = {conf}')\n",
    "    return conf"
   ]
  },
  {
   "cell_type": "code",
   "execution_count": null,
   "metadata": {},
   "outputs": [],
   "source": [
    "def creds() :\n",
    "    log.info('Loading credentials...')\n",
    "    with open('/usr/local/share/credentials.json','r') as creds_file:\n",
    "        creds = json.load(creds_file)\n",
    "    log.info('Loading credentials... Done !')\n",
    "    log.warn('PLEASE NEVER PRINT CREDENTIALS IN THE LOG, OR IN A JUPYTER CELL OUTPUT')\n",
    "    return creds"
   ]
  }
 ],
 "metadata": {
  "kernelspec": {
   "display_name": "Python 3.6.2",
   "language": "python",
   "name": "python_3.6.2"
  },
  "language_info": {
   "codemirror_mode": {
    "name": "ipython",
    "version": 3
   },
   "file_extension": ".py",
   "mimetype": "text/x-python",
   "name": "python",
   "nbconvert_exporter": "python",
   "pygments_lexer": "ipython3"
  }
 },
 "nbformat": 4,
 "nbformat_minor": 2
}
