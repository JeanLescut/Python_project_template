{
 "cells": [
  {
   "cell_type": "code",
   "execution_count": null,
   "metadata": {},
   "outputs": [],
   "source": [
    "import sys\n",
    "import smtplib\n",
    "from email.mime.multipart import MIMEMultipart\n",
    "from email.mime.text import MIMEText\n",
    "import logging\n",
    "log = logging.getLogger(__name__)\n",
    "log.debug('Module loaded')"
   ]
  },
  {
   "cell_type": "markdown",
   "metadata": {},
   "source": [
    "### Send simple email :\n",
    "Example : \n",
    "```\n",
    "email.send_simple(to_email_list=['jlescutmuller@expedia.com'],\n",
    "                  subject='test',\n",
    "                  content='test', \n",
    "                  from_email='jlescutmuller@expedia.com')\n",
    "```"
   ]
  },
  {
   "cell_type": "code",
   "execution_count": null,
   "metadata": {},
   "outputs": [],
   "source": [
    "def send_simple(from_email, to_email_list, subject, content):\n",
    "\n",
    "    SERVER = \"exp-shost-01\"\n",
    "    FROM = from_email #'fhatt@expedia.com'\n",
    "    TO = to_email_list #[\"fhatt@expedia.com\"]  # must be a list\n",
    "    SUBJECT = subject #\"ALERT - SHPM LOGS \"\n",
    "    CONTENT = content #'hello world'\n",
    "    TEXT = CONTENT.encode('utf-8')\n",
    "\n",
    "    # Prepare actual message\n",
    "    message = \"\"\"\\\n",
    "    From: %s\n",
    "    To: %s\n",
    "    Subject: %s\n",
    "\n",
    "    %s\n",
    "    \"\"\" % (FROM, \", \".join(TO), SUBJECT, TEXT)\n",
    "\n",
    "    # Send the mail\n",
    "    server = smtplib.SMTP(SERVER)\n",
    "    try:\n",
    "        server.sendmail(FROM, TO, message)\n",
    "        server.quit()\n",
    "        log.debug('Email Sent')\n",
    "    except TypeError:\n",
    "        log.debug('Error Sending Email')\n"
   ]
  },
  {
   "cell_type": "markdown",
   "metadata": {},
   "source": [
    "# Example\n",
    "to_email_list = [\"fhatt@expedia.com\"]\n",
    "from_email = 'fhatt@expedia.com'\n",
    "subject = 'test'\n",
    "content='hello world'\n",
    "send_email(from_email, to_email_list, subject, content)"
   ]
  },
  {
   "cell_type": "code",
   "execution_count": null,
   "metadata": {},
   "outputs": [],
   "source": [
    "def send_html(from_email, to_email, subject, content):\n",
    "\n",
    "    server = \"exp-shost-01\"\n",
    "\n",
    "    # Create message container - the correct MIME type is multipart/alternative.\n",
    "    msg = MIMEMultipart('alternative')\n",
    "    msg['Subject'] = subject\n",
    "    msg['From'] = from_email\n",
    "    msg['To'] = to_email\n",
    "\n",
    "    # Record the MIME types of both parts - text/plain and text/html.\n",
    "    part2 = MIMEText(content, 'html')\n",
    "\n",
    "    # Attach parts into message container.\n",
    "    # According to RFC 2046, the last part of a multipart message, in this case\n",
    "    # the HTML message, is best and preferred.\n",
    "    msg.attach(part2)\n",
    "\n",
    "    # Send the message via local SMTP server.\n",
    "    s = smtplib.SMTP(server)\n",
    "    # sendmail function takes 3 arguments: sender's address, recipient's address\n",
    "    # and message to send - here it is sent as one string.\n",
    "    s.sendmail(from_email, to_email, msg.as_string())\n",
    "    s.quit()\n",
    "    \n",
    "    log.debug('Email Sent')\n",
    "    "
   ]
  }
 ],
 "metadata": {
  "kernelspec": {
   "display_name": "Python 3.6.2",
   "language": "python",
   "name": "python_3.6.2"
  },
  "language_info": {
   "codemirror_mode": {
    "name": "ipython",
    "version": 3
   },
   "file_extension": ".py",
   "mimetype": "text/x-python",
   "name": "python",
   "nbconvert_exporter": "python",
   "pygments_lexer": "ipython3"
  }
 },
 "nbformat": 4,
 "nbformat_minor": 2
}
