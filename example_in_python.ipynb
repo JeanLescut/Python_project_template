{
 "cells": [
  {
   "cell_type": "code",
   "execution_count": null,
   "metadata": {},
   "outputs": [],
   "source": [
    "import logging\n",
    "import sys\n",
    "import yaml"
   ]
  },
  {
   "cell_type": "code",
   "execution_count": null,
   "metadata": {},
   "outputs": [],
   "source": [
    "logging.basicConfig(stream=sys.stdout,\n",
    "                        format='[%(asctime)s] [%(filename)s] [%(levelname)s] %(message)s',\n",
    "                        level=logging.DEBUG)\n",
    "logging.info('Logging ready, Start of the script !')"
   ]
  },
  {
   "cell_type": "code",
   "execution_count": null,
   "metadata": {},
   "outputs": [],
   "source": [
    "# Loading Configuration :\n",
    "def load_conf_file(path_conf) :\n",
    "    logging.debug(f'Loading conf file {path_conf} ...')\n",
    "    try :\n",
    "        return yaml.safe_load(open(path_conf, 'r'))\n",
    "    except FileNotFoundError :\n",
    "        logging.warning(f'The path {path_conf} does not correspond to any file !')\n",
    "        return dict()\n",
    "    \n",
    "conf = load_conf_file('./etc/default.yml')\n",
    "conf.update(load_conf_file('./etc/local.yml'))\n",
    "\n",
    "if 'ipykernel_launcher.py' != sys.argv[0].split('/')[-1] : # If not run in Jupyter :\n",
    "    for arg in sys.argv[1:] : # For every argument (conf_yaml, param_yaml, etc...)\n",
    "        conf.update(load_conf_file(arg))"
   ]
  },
  {
   "cell_type": "code",
   "execution_count": null,
   "metadata": {},
   "outputs": [],
   "source": [
    "logging.info('###########################################')\n",
    "logging.info('Loading credentials stored locally...')\n",
    "with open('/usr/local/share/credentials/AD','r') as creds_file:\n",
    "    creds = dict([keyval.split('=') for keyval in creds_file.read().strip().split('\\n')])\n",
    "# Note : Never print the credentials in the log !"
   ]
  },
  {
   "cell_type": "markdown",
   "metadata": {},
   "source": [
    "# Your code start here :"
   ]
  },
  {
   "cell_type": "code",
   "execution_count": null,
   "metadata": {},
   "outputs": [],
   "source": [
    "# First thing in the script : import all libraries at once :\n",
    "import paramiko\n",
    "import pymssql"
   ]
  },
  {
   "cell_type": "code",
   "execution_count": null,
   "metadata": {},
   "outputs": [],
   "source": [
    "logging.info('###########################################')\n",
    "logging.info('Example of SSH connection :')\n",
    "logging.debug('Creating SSH client...')\n",
    "ssh = paramiko.SSHClient()\n",
    "ssh.set_missing_host_key_policy(paramiko.AutoAddPolicy())\n",
    "ssh.connect(hostname = 'chsxedwhdc001', \n",
    "            username = creds['user'],\n",
    "            password = creds['pass'])\n",
    "\n",
    "logging.debug('using SSH connection to retrieve data...')\n",
    "_, stdout, _ = ssh.exec_command('whoami')\n",
    "result = stdout.readline().strip()\n",
    "logging.info(f'I am {result} !')"
   ]
  },
  {
   "cell_type": "code",
   "execution_count": null,
   "metadata": {},
   "outputs": [],
   "source": [
    "logging.info('###########################################')\n",
    "logging.info('Example of SQL connection :')\n",
    "connection = pymssql.connect(server = 'CHCXSQLARMDM008', \n",
    "                             user = creds['domain'] + '\\\\' + creds['user'], \n",
    "                             password = creds['pass'], \n",
    "                             database = 'Pricing',\n",
    "                             autocommit=True)\n",
    "cursor = connection.cursor()\n",
    "\n",
    "logging.debug('Executing a statement...')\n",
    "query=f'SELECT 1'\n",
    "logging.debug(query)\n",
    "cursor.execute(query)\n",
    "logging.debug(cursor.fetchall())"
   ]
  },
  {
   "cell_type": "code",
   "execution_count": null,
   "metadata": {},
   "outputs": [],
   "source": [
    "logging.info('End of the script (success)') # Always finish by that to confirm a precocious exit did not happen"
   ]
  }
 ],
 "metadata": {
  "kernelspec": {
   "display_name": "Python 3.6.2",
   "language": "python",
   "name": "python_3.6.2"
  },
  "language_info": {
   "codemirror_mode": {
    "name": "ipython",
    "version": 3
   },
   "file_extension": ".py",
   "mimetype": "text/x-python",
   "name": "python",
   "nbconvert_exporter": "python",
   "pygments_lexer": "ipython3"
  }
 },
 "nbformat": 4,
 "nbformat_minor": 2
}
