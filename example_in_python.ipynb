{
 "cells": [
  {
   "cell_type": "code",
   "execution_count": null,
   "metadata": {},
   "outputs": [],
   "source": [
    "import logging, sys"
   ]
  },
  {
   "cell_type": "code",
   "execution_count": null,
   "metadata": {},
   "outputs": [],
   "source": [
    "logging.basicConfig(stream=sys.stdout,\n",
    "                        format='[%(asctime)s] [%(filename)s] [%(levelname)s] %(message)s',\n",
    "                        level=logging.WARN)\n",
    "log = logging.getLogger(__name__)\n",
    "log.setLevel(logging.DEBUG)\n",
    "log.debug(f'Python version = {str(sys.version)}')\n",
    "log.debug(f'argv[0] is = {str(sys.argv[0])}')"
   ]
  },
  {
   "cell_type": "code",
   "execution_count": null,
   "metadata": {},
   "outputs": [],
   "source": [
    "sys.path.append('.')\n",
    "from python_utils import email, sql, load\n",
    "logging.getLogger('python_utils').setLevel(logging.DEBUG)\n",
    "conf = load.conf(sys.argv)\n",
    "creds = load.creds()"
   ]
  },
  {
   "cell_type": "markdown",
   "metadata": {},
   "source": [
    "# Your code start here :"
   ]
  },
  {
   "cell_type": "code",
   "execution_count": null,
   "metadata": {},
   "outputs": [],
   "source": [
    "# First thing in the script : import all libraries at once :\n",
    "import paramiko\n",
    "import pymssql"
   ]
  },
  {
   "cell_type": "code",
   "execution_count": null,
   "metadata": {},
   "outputs": [],
   "source": [
    "log.info('###########################################')\n",
    "log.info('Example of SSH connection :')\n",
    "log.debug('Creating SSH client...')\n",
    "ssh = paramiko.SSHClient()\n",
    "ssh.set_missing_host_key_policy(paramiko.AutoAddPolicy())\n",
    "ssh.connect(hostname = 'chsxedwhdc001', \n",
    "            username = creds['user'],\n",
    "            password = creds['pass'])\n",
    "\n",
    "log.debug('using SSH connection to retrieve data...')\n",
    "_, stdout, _ = ssh.exec_command('whoami')\n",
    "result = stdout.readline().strip()\n",
    "log.info(f'I am {result} !')"
   ]
  },
  {
   "cell_type": "code",
   "execution_count": null,
   "metadata": {},
   "outputs": [],
   "source": [
    "log.info('###########################################')\n",
    "log.info('Example of SQL connection :')\n",
    "connection = pymssql.connect(server = 'CHCXSQLARMDM008', \n",
    "                             user = creds['domain'] + '\\\\' + creds['user'], \n",
    "                             password = creds['pass'], \n",
    "                             database = 'Pricing',\n",
    "                             autocommit=True)\n",
    "cursor = connection.cursor()\n",
    "\n",
    "log.debug('Executing a statement...')\n",
    "query=f'SELECT 1'\n",
    "log.debug(query)\n",
    "cursor.execute(query)\n",
    "log.debug(cursor.fetchall())"
   ]
  },
  {
   "cell_type": "code",
   "execution_count": null,
   "metadata": {},
   "outputs": [],
   "source": [
    "log.info('End of the script (success)') # Good practice : finish by that to confirm a clean exit"
   ]
  }
 ],
 "metadata": {
  "kernelspec": {
   "display_name": "Python 3.6.2",
   "language": "python",
   "name": "python_3.6.2"
  },
  "language_info": {
   "codemirror_mode": {
    "name": "ipython",
    "version": 3
   },
   "file_extension": ".py",
   "mimetype": "text/x-python",
   "name": "python",
   "nbconvert_exporter": "python",
   "pygments_lexer": "ipython3"
  }
 },
 "nbformat": 4,
 "nbformat_minor": 2
}
