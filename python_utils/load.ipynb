{
 "cells": [
  {
   "cell_type": "code",
   "execution_count": null,
   "metadata": {},
   "outputs": [],
   "source": [
    "import yaml\n",
    "import logging\n",
    "log = logging.getLogger(__name__)\n",
    "log.debug('Module loaded')"
   ]
  },
  {
   "cell_type": "code",
   "execution_count": null,
   "metadata": {},
   "outputs": [],
   "source": [
    "def conf(argv) :\n",
    "    log.info('Loading configuration files...')\n",
    "\n",
    "    def load_conf_file(path_conf) :\n",
    "        log.debug(f'Loading conf file {path_conf} ...')\n",
    "        try :\n",
    "            return yaml.safe_load(open(path_conf, 'r'))\n",
    "        except FileNotFoundError :\n",
    "            log.warning(f'The path {path_conf} does not correspond to any file !')\n",
    "            return dict()\n",
    "\n",
    "    conf = load_conf_file('./etc/default.yml')\n",
    "    conf.update(load_conf_file('./etc/local.yml'))\n",
    "\n",
    "    if 'ipykernel_launcher.py' != argv[0].split('/')[-1] : # If not run in Jupyter :\n",
    "        for arg in argv[1:] : # For every argument (conf_yaml, param_yaml, etc...)\n",
    "            conf.update(load_conf_file(arg))\n",
    "            \n",
    "    log.info('Loading configuration files... Done !')\n",
    "    log.debug(f'conf = {conf}')\n",
    "    return conf"
   ]
  },
  {
   "cell_type": "code",
   "execution_count": null,
   "metadata": {},
   "outputs": [],
   "source": [
    "def creds() :\n",
    "    log.info('Loading credentials...')\n",
    "    with open('/usr/local/share/credentials/AD','r') as creds_file:\n",
    "        creds = dict([keyval.split('=') for keyval in creds_file.read().strip().split('\\n')])\n",
    "    log.info('Loading credentials... Done !')\n",
    "    log.warn('PLEASE NEVER PRINT CREDENTIALS IN THE LOG, OR IN A JUPYTER CELL OUTPUT')\n",
    "    return creds"
   ]
  },
  {
   "cell_type": "code",
   "execution_count": null,
   "metadata": {},
   "outputs": [],
   "source": []
  }
 ],
 "metadata": {
  "kernelspec": {
   "display_name": "Python 3.6.2",
   "language": "python",
   "name": "python_3.6.2"
  },
  "language_info": {
   "codemirror_mode": {
    "name": "ipython",
    "version": 3
   },
   "file_extension": ".py",
   "mimetype": "text/x-python",
   "name": "python",
   "nbconvert_exporter": "python",
   "pygments_lexer": "ipython3"
  }
 },
 "nbformat": 4,
 "nbformat_minor": 2
}
